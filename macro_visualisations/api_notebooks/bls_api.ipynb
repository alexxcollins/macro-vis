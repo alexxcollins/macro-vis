{
 "cells": [
  {
   "cell_type": "markdown",
   "metadata": {},
   "source": [
    "# Tool for exploratory work with bls libraty for BLS statistics\n",
    "\n",
    "Primarily for CPI and employment statistics"
   ]
  },
  {
   "cell_type": "code",
   "execution_count": 1,
   "metadata": {},
   "outputs": [],
   "source": [
    "import numpy as np\n",
    "import pandas as pd\n",
    "import bls as bls"
   ]
  },
  {
   "cell_type": "markdown",
   "metadata": {},
   "source": [
    "Read the BLS API key stored in the API keys document.\n",
    "\n",
    "Code below will return a string for a txt file with one line of text. To strip the '/n' append to the string, need to use `.replace('\\n', '')` - see [here](https://stackoverflow.com/questions/8369219/how-to-read-a-text-file-into-a-string-variable-and-strip-newlines).\n",
    "\n",
    "`with` is used with `open()` because the with statement encapsulates a close/teardown process. If used without `with` the file will be left open."
   ]
  },
  {
   "cell_type": "code",
   "execution_count": 20,
   "metadata": {},
   "outputs": [
    {
     "data": {
      "text/plain": [
       "'de27cdcdaaa44fa8974cc06155c82ad4'"
      ]
     },
     "execution_count": 20,
     "metadata": {},
     "output_type": "execute_result"
    }
   ],
   "source": [
    "with open('/home/alex/alex/projects/datascienceprojects/apis/bls_api_key.txt', 'r') as file:\n",
    "    key = file.read().replace('\\n','')\n",
    "key"
   ]
  },
  {
   "cell_type": "markdown",
   "metadata": {},
   "source": [
    "# Using get_series() to retrieve data\n",
    "\n",
    "    :series: a series id or sequence of series ids to retrieve\n",
    "    :startyear: The first year for which  to retrieve data. Defaults to ten\n",
    "        years before the endyear\n",
    "    :endyear: The last year for which to retrieve data. Defaults to ten years\n",
    "        after the startyear, if given, or else the current year\n",
    "    :returns: a pandas DataFrame object with each series as a column and each\n",
    "        monthly observation as a row. If only one series is requested, a pandas\n",
    "        Series object is returned instead of a DataFrame."
   ]
  },
  {
   "cell_type": "code",
   "execution_count": 21,
   "metadata": {},
   "outputs": [],
   "source": [
    "nfp_chg = bls.get_series('CES0000000001', endyear = 2019, key = key)"
   ]
  },
  {
   "cell_type": "code",
   "execution_count": 22,
   "metadata": {},
   "outputs": [
    {
     "data": {
      "text/plain": [
       "date\n",
       "2019-06    151252.0\n",
       "2019-07    151418.0\n",
       "2019-08    151637.0\n",
       "2019-09    151817.0\n",
       "2019-10    151945.0\n",
       "Freq: M, Name: CES0000000001, dtype: float64"
      ]
     },
     "execution_count": 22,
     "metadata": {},
     "output_type": "execute_result"
    }
   ],
   "source": [
    "nfp_chg.tail()"
   ]
  },
  {
   "cell_type": "code",
   "execution_count": 23,
   "metadata": {},
   "outputs": [
    {
     "data": {
      "text/plain": [
       "date\n",
       "2000-01    131020.0\n",
       "2000-02    131136.0\n",
       "2000-03    131609.0\n",
       "2000-04    131900.0\n",
       "2000-05    132118.0\n",
       "Freq: M, Name: CES0000000001, dtype: float64"
      ]
     },
     "execution_count": 23,
     "metadata": {},
     "output_type": "execute_result"
    }
   ],
   "source": [
    "nfp_chg.head()"
   ]
  },
  {
   "cell_type": "code",
   "execution_count": null,
   "metadata": {},
   "outputs": [],
   "source": [
    "bls.get_series()"
   ]
  },
  {
   "cell_type": "code",
   "execution_count": null,
   "metadata": {},
   "outputs": [],
   "source": []
  },
  {
   "cell_type": "code",
   "execution_count": null,
   "metadata": {},
   "outputs": [],
   "source": []
  },
  {
   "cell_type": "code",
   "execution_count": null,
   "metadata": {},
   "outputs": [],
   "source": []
  },
  {
   "cell_type": "markdown",
   "metadata": {},
   "source": [
    "# Annex - understanding source code"
   ]
  },
  {
   "cell_type": "markdown",
   "metadata": {},
   "source": [
    "## Joining a tuple\n",
    "\n",
    "Part of the input for the getseries() function is a \"list\" of datacodes.\n",
    "As discovered below: \n",
    "* the `series` variable is a tuple.\n",
    "* `'.'.join(series)` joins the values in the tuple to create a sring object\n",
    "This uses the python .join() method. NOT to be confused with pandas .join()\n",
    "Explanation on [Tutorial Sprint](https://www.tutorialspoint.com/python/string_join.htm)"
   ]
  },
  {
   "cell_type": "code",
   "execution_count": 2,
   "metadata": {},
   "outputs": [],
   "source": [
    "series = ('hello','goodbye','laters')"
   ]
  },
  {
   "cell_type": "code",
   "execution_count": 3,
   "metadata": {},
   "outputs": [
    {
     "data": {
      "text/plain": [
       "('hello', 'goodbye', 'laters')"
      ]
     },
     "execution_count": 3,
     "metadata": {},
     "output_type": "execute_result"
    }
   ],
   "source": [
    "series"
   ]
  },
  {
   "cell_type": "code",
   "execution_count": 4,
   "metadata": {},
   "outputs": [
    {
     "data": {
      "text/plain": [
       "'hello,goodbye,laters'"
      ]
     },
     "execution_count": 4,
     "metadata": {},
     "output_type": "execute_result"
    }
   ],
   "source": [
    "seriesid = ','.join(series)\n",
    "seriesid"
   ]
  },
  {
   "cell_type": "code",
   "execution_count": null,
   "metadata": {},
   "outputs": [],
   "source": []
  }
 ],
 "metadata": {
  "kernelspec": {
   "display_name": "Python 3",
   "language": "python",
   "name": "python3"
  },
  "language_info": {
   "codemirror_mode": {
    "name": "ipython",
    "version": 3
   },
   "file_extension": ".py",
   "mimetype": "text/x-python",
   "name": "python",
   "nbconvert_exporter": "python",
   "pygments_lexer": "ipython3",
   "version": "3.6.8"
  }
 },
 "nbformat": 4,
 "nbformat_minor": 4
}
