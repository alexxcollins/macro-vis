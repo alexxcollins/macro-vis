{
 "cells": [
  {
   "cell_type": "code",
   "execution_count": 1,
   "metadata": {
    "ExecuteTime": {
     "end_time": "2019-10-22T15:04:36.847777Z",
     "start_time": "2019-10-22T15:04:36.356284Z"
    },
    "collapsed": true,
    "jupyter": {
     "outputs_hidden": true
    }
   },
   "outputs": [],
   "source": [
    "from fredapi import Fred\n",
    "import quandl as qd\n",
    "import numpy as np\n",
    "from datetime import datetime as dt\n",
    "import pandas as pd\n",
    "from pandas_datareader import data\n",
    "qd.ApiConfig.api_key = \"Pn4VQFgZqt6Uid7qWa_p\"\n",
    "\n",
    "%matplotlib inline\n"
   ]
  },
  {
   "cell_type": "code",
   "execution_count": 2,
   "metadata": {
    "ExecuteTime": {
     "end_time": "2019-10-22T15:04:36.855274Z",
     "start_time": "2019-10-22T15:04:36.851311Z"
    }
   },
   "outputs": [
    {
     "name": "stdout",
     "output_type": "stream",
     "text": [
      "~/alex/projects/datascienceprojects/macro_visualisations/ref_data/data_codes.csv\n"
     ]
    }
   ],
   "source": [
    "data_codes_fp = ('~/alex/projects/datascienceprojects/'\n",
    "                 + 'macro_visualisations/ref_data/data_codes.csv')\n",
    "print(data_codes_fp)"
   ]
  },
  {
   "cell_type": "code",
   "execution_count": 3,
   "metadata": {
    "ExecuteTime": {
     "end_time": "2019-10-22T15:04:36.933660Z",
     "start_time": "2019-10-22T15:04:36.856591Z"
    }
   },
   "outputs": [],
   "source": [
    "data_codes = pd.read_csv(data_codes_fp,index_col=0)"
   ]
  },
  {
   "cell_type": "code",
   "execution_count": 4,
   "metadata": {
    "ExecuteTime": {
     "end_time": "2019-10-22T15:04:37.052259Z",
     "start_time": "2019-10-22T15:04:36.935636Z"
    },
    "scrolled": true
   },
   "outputs": [
    {
     "data": {
      "text/html": [
       "<div>\n",
       "<style scoped>\n",
       "    .dataframe tbody tr th:only-of-type {\n",
       "        vertical-align: middle;\n",
       "    }\n",
       "\n",
       "    .dataframe tbody tr th {\n",
       "        vertical-align: top;\n",
       "    }\n",
       "\n",
       "    .dataframe thead th {\n",
       "        text-align: right;\n",
       "    }\n",
       "</style>\n",
       "<table border=\"1\" class=\"dataframe\">\n",
       "  <thead>\n",
       "    <tr style=\"text-align: right;\">\n",
       "      <th></th>\n",
       "      <th>0</th>\n",
       "    </tr>\n",
       "  </thead>\n",
       "  <tbody>\n",
       "    <tr>\n",
       "      <th>0</th>\n",
       "      <td>name</td>\n",
       "    </tr>\n",
       "    <tr>\n",
       "      <th>1</th>\n",
       "      <td>provider_code</td>\n",
       "    </tr>\n",
       "    <tr>\n",
       "      <th>2</th>\n",
       "      <td>code#1</td>\n",
       "    </tr>\n",
       "    <tr>\n",
       "      <th>3</th>\n",
       "      <td>code#2</td>\n",
       "    </tr>\n",
       "    <tr>\n",
       "      <th>4</th>\n",
       "      <td>code#3</td>\n",
       "    </tr>\n",
       "    <tr>\n",
       "      <th>5</th>\n",
       "      <td>data_provider</td>\n",
       "    </tr>\n",
       "    <tr>\n",
       "      <th>6</th>\n",
       "      <td>currency</td>\n",
       "    </tr>\n",
       "    <tr>\n",
       "      <th>7</th>\n",
       "      <td>issuer</td>\n",
       "    </tr>\n",
       "    <tr>\n",
       "      <th>8</th>\n",
       "      <td>asset_type</td>\n",
       "    </tr>\n",
       "    <tr>\n",
       "      <th>9</th>\n",
       "      <td>maturity</td>\n",
       "    </tr>\n",
       "    <tr>\n",
       "      <th>10</th>\n",
       "      <td>maturity_unit</td>\n",
       "    </tr>\n",
       "    <tr>\n",
       "      <th>11</th>\n",
       "      <td>maturity_type</td>\n",
       "    </tr>\n",
       "    <tr>\n",
       "      <th>12</th>\n",
       "      <td>unit</td>\n",
       "    </tr>\n",
       "    <tr>\n",
       "      <th>13</th>\n",
       "      <td>original_data_supplier</td>\n",
       "    </tr>\n",
       "    <tr>\n",
       "      <th>14</th>\n",
       "      <td>currency_short</td>\n",
       "    </tr>\n",
       "    <tr>\n",
       "      <th>15</th>\n",
       "      <td>issuer_short</td>\n",
       "    </tr>\n",
       "    <tr>\n",
       "      <th>16</th>\n",
       "      <td>asset_type_short</td>\n",
       "    </tr>\n",
       "    <tr>\n",
       "      <th>17</th>\n",
       "      <td>maturity_short</td>\n",
       "    </tr>\n",
       "    <tr>\n",
       "      <th>18</th>\n",
       "      <td>maturity_unit_short</td>\n",
       "    </tr>\n",
       "    <tr>\n",
       "      <th>19</th>\n",
       "      <td>maturity_type_short</td>\n",
       "    </tr>\n",
       "    <tr>\n",
       "      <th>20</th>\n",
       "      <td>unit_short</td>\n",
       "    </tr>\n",
       "  </tbody>\n",
       "</table>\n",
       "</div>"
      ],
      "text/plain": [
       "                         0\n",
       "0                     name\n",
       "1            provider_code\n",
       "2                   code#1\n",
       "3                   code#2\n",
       "4                   code#3\n",
       "5            data_provider\n",
       "6                 currency\n",
       "7                   issuer\n",
       "8               asset_type\n",
       "9                 maturity\n",
       "10           maturity_unit\n",
       "11           maturity_type\n",
       "12                    unit\n",
       "13  original_data_supplier\n",
       "14          currency_short\n",
       "15            issuer_short\n",
       "16        asset_type_short\n",
       "17          maturity_short\n",
       "18     maturity_unit_short\n",
       "19     maturity_type_short\n",
       "20              unit_short"
      ]
     },
     "execution_count": 4,
     "metadata": {},
     "output_type": "execute_result"
    }
   ],
   "source": [
    "pd.DataFrame(data_codes.columns)"
   ]
  },
  {
   "cell_type": "code",
   "execution_count": 5,
   "metadata": {
    "ExecuteTime": {
     "end_time": "2019-10-22T15:04:37.216325Z",
     "start_time": "2019-10-22T15:04:37.054107Z"
    }
   },
   "outputs": [
    {
     "data": {
      "text/html": [
       "<div>\n",
       "<style scoped>\n",
       "    .dataframe tbody tr th:only-of-type {\n",
       "        vertical-align: middle;\n",
       "    }\n",
       "\n",
       "    .dataframe tbody tr th {\n",
       "        vertical-align: top;\n",
       "    }\n",
       "\n",
       "    .dataframe thead th {\n",
       "        text-align: right;\n",
       "    }\n",
       "</style>\n",
       "<table border=\"1\" class=\"dataframe\">\n",
       "  <thead>\n",
       "    <tr style=\"text-align: right;\">\n",
       "      <th></th>\n",
       "      <th>name</th>\n",
       "      <th>provider_code</th>\n",
       "      <th>code#1</th>\n",
       "      <th>code#2</th>\n",
       "      <th>code#3</th>\n",
       "      <th>data_provider</th>\n",
       "      <th>currency</th>\n",
       "      <th>issuer</th>\n",
       "      <th>asset_type</th>\n",
       "      <th>maturity</th>\n",
       "      <th>...</th>\n",
       "      <th>maturity_type</th>\n",
       "      <th>unit</th>\n",
       "      <th>original_data_supplier</th>\n",
       "      <th>currency_short</th>\n",
       "      <th>issuer_short</th>\n",
       "      <th>asset_type_short</th>\n",
       "      <th>maturity_short</th>\n",
       "      <th>maturity_unit_short</th>\n",
       "      <th>maturity_type_short</th>\n",
       "      <th>unit_short</th>\n",
       "    </tr>\n",
       "    <tr>\n",
       "      <th>my_code</th>\n",
       "      <th></th>\n",
       "      <th></th>\n",
       "      <th></th>\n",
       "      <th></th>\n",
       "      <th></th>\n",
       "      <th></th>\n",
       "      <th></th>\n",
       "      <th></th>\n",
       "      <th></th>\n",
       "      <th></th>\n",
       "      <th></th>\n",
       "      <th></th>\n",
       "      <th></th>\n",
       "      <th></th>\n",
       "      <th></th>\n",
       "      <th></th>\n",
       "      <th></th>\n",
       "      <th></th>\n",
       "      <th></th>\n",
       "      <th></th>\n",
       "      <th></th>\n",
       "    </tr>\n",
       "  </thead>\n",
       "  <tbody>\n",
       "    <tr>\n",
       "      <th>egeg1ycpy</th>\n",
       "      <td>bund_1y</td>\n",
       "      <td>BUNDESBANK/BBK01_WT3400</td>\n",
       "      <td>BUNDESBANK/BBK01_WT34</td>\n",
       "      <td>0.0</td>\n",
       "      <td>0</td>\n",
       "      <td>quandl</td>\n",
       "      <td>eur</td>\n",
       "      <td>germany</td>\n",
       "      <td>government_bond</td>\n",
       "      <td>1</td>\n",
       "      <td>...</td>\n",
       "      <td>constant</td>\n",
       "      <td>par_yield</td>\n",
       "      <td>bundesbank</td>\n",
       "      <td>e</td>\n",
       "      <td>ge</td>\n",
       "      <td>g</td>\n",
       "      <td>1</td>\n",
       "      <td>y</td>\n",
       "      <td>c</td>\n",
       "      <td>py</td>\n",
       "    </tr>\n",
       "    <tr>\n",
       "      <th>egeg2ycpy</th>\n",
       "      <td>bund_2y</td>\n",
       "      <td>BUNDESBANK/BBK01_WT3401</td>\n",
       "      <td>BUNDESBANK/BBK01_WT34</td>\n",
       "      <td>0.0</td>\n",
       "      <td>1</td>\n",
       "      <td>quandl</td>\n",
       "      <td>eur</td>\n",
       "      <td>germany</td>\n",
       "      <td>government_bond</td>\n",
       "      <td>2</td>\n",
       "      <td>...</td>\n",
       "      <td>constant</td>\n",
       "      <td>par_yield</td>\n",
       "      <td>bundesbank</td>\n",
       "      <td>e</td>\n",
       "      <td>ge</td>\n",
       "      <td>g</td>\n",
       "      <td>2</td>\n",
       "      <td>y</td>\n",
       "      <td>c</td>\n",
       "      <td>py</td>\n",
       "    </tr>\n",
       "    <tr>\n",
       "      <th>egeg3ycpy</th>\n",
       "      <td>bund_3y</td>\n",
       "      <td>BUNDESBANK/BBK01_WT3402</td>\n",
       "      <td>BUNDESBANK/BBK01_WT34</td>\n",
       "      <td>0.0</td>\n",
       "      <td>2</td>\n",
       "      <td>quandl</td>\n",
       "      <td>eur</td>\n",
       "      <td>germany</td>\n",
       "      <td>government_bond</td>\n",
       "      <td>3</td>\n",
       "      <td>...</td>\n",
       "      <td>constant</td>\n",
       "      <td>par_yield</td>\n",
       "      <td>bundesbank</td>\n",
       "      <td>e</td>\n",
       "      <td>ge</td>\n",
       "      <td>g</td>\n",
       "      <td>3</td>\n",
       "      <td>y</td>\n",
       "      <td>c</td>\n",
       "      <td>py</td>\n",
       "    </tr>\n",
       "    <tr>\n",
       "      <th>egeg4ycpy</th>\n",
       "      <td>bund_4y</td>\n",
       "      <td>BUNDESBANK/BBK01_WT3403</td>\n",
       "      <td>BUNDESBANK/BBK01_WT34</td>\n",
       "      <td>0.0</td>\n",
       "      <td>3</td>\n",
       "      <td>quandl</td>\n",
       "      <td>eur</td>\n",
       "      <td>germany</td>\n",
       "      <td>government_bond</td>\n",
       "      <td>4</td>\n",
       "      <td>...</td>\n",
       "      <td>constant</td>\n",
       "      <td>par_yield</td>\n",
       "      <td>bundesbank</td>\n",
       "      <td>e</td>\n",
       "      <td>ge</td>\n",
       "      <td>g</td>\n",
       "      <td>4</td>\n",
       "      <td>y</td>\n",
       "      <td>c</td>\n",
       "      <td>py</td>\n",
       "    </tr>\n",
       "    <tr>\n",
       "      <th>egeg5ycpy</th>\n",
       "      <td>bund_5y</td>\n",
       "      <td>BUNDESBANK/BBK01_WT3404</td>\n",
       "      <td>BUNDESBANK/BBK01_WT34</td>\n",
       "      <td>0.0</td>\n",
       "      <td>4</td>\n",
       "      <td>quandl</td>\n",
       "      <td>eur</td>\n",
       "      <td>germany</td>\n",
       "      <td>government_bond</td>\n",
       "      <td>5</td>\n",
       "      <td>...</td>\n",
       "      <td>constant</td>\n",
       "      <td>par_yield</td>\n",
       "      <td>bundesbank</td>\n",
       "      <td>e</td>\n",
       "      <td>ge</td>\n",
       "      <td>g</td>\n",
       "      <td>5</td>\n",
       "      <td>y</td>\n",
       "      <td>c</td>\n",
       "      <td>py</td>\n",
       "    </tr>\n",
       "    <tr>\n",
       "      <th>egeg7ycpy</th>\n",
       "      <td>bund_7y</td>\n",
       "      <td>BUNDESBANK/BBK01_WT3406</td>\n",
       "      <td>BUNDESBANK/BBK01_WT34</td>\n",
       "      <td>0.0</td>\n",
       "      <td>6</td>\n",
       "      <td>quandl</td>\n",
       "      <td>eur</td>\n",
       "      <td>germany</td>\n",
       "      <td>government_bond</td>\n",
       "      <td>7</td>\n",
       "      <td>...</td>\n",
       "      <td>constant</td>\n",
       "      <td>par_yield</td>\n",
       "      <td>bundesbank</td>\n",
       "      <td>e</td>\n",
       "      <td>ge</td>\n",
       "      <td>g</td>\n",
       "      <td>7</td>\n",
       "      <td>y</td>\n",
       "      <td>c</td>\n",
       "      <td>py</td>\n",
       "    </tr>\n",
       "    <tr>\n",
       "      <th>egeg10ycpy</th>\n",
       "      <td>bund_10y</td>\n",
       "      <td>BUNDESBANK/BBK01_WT3409</td>\n",
       "      <td>BUNDESBANK/BBK01_WT34</td>\n",
       "      <td>0.0</td>\n",
       "      <td>9</td>\n",
       "      <td>quandl</td>\n",
       "      <td>eur</td>\n",
       "      <td>germany</td>\n",
       "      <td>government_bond</td>\n",
       "      <td>10</td>\n",
       "      <td>...</td>\n",
       "      <td>constant</td>\n",
       "      <td>par_yield</td>\n",
       "      <td>bundesbank</td>\n",
       "      <td>e</td>\n",
       "      <td>ge</td>\n",
       "      <td>g</td>\n",
       "      <td>10</td>\n",
       "      <td>y</td>\n",
       "      <td>c</td>\n",
       "      <td>py</td>\n",
       "    </tr>\n",
       "    <tr>\n",
       "      <th>egeg15ycpy</th>\n",
       "      <td>bund_15y</td>\n",
       "      <td>BUNDESBANK/BBK01_WT3439</td>\n",
       "      <td>BUNDESBANK/BBK01_WT34</td>\n",
       "      <td>NaN</td>\n",
       "      <td>39</td>\n",
       "      <td>quandl</td>\n",
       "      <td>eur</td>\n",
       "      <td>germany</td>\n",
       "      <td>government_bond</td>\n",
       "      <td>15</td>\n",
       "      <td>...</td>\n",
       "      <td>constant</td>\n",
       "      <td>par_yield</td>\n",
       "      <td>bundesbank</td>\n",
       "      <td>e</td>\n",
       "      <td>ge</td>\n",
       "      <td>g</td>\n",
       "      <td>15</td>\n",
       "      <td>y</td>\n",
       "      <td>c</td>\n",
       "      <td>py</td>\n",
       "    </tr>\n",
       "    <tr>\n",
       "      <th>egeg20ycpy</th>\n",
       "      <td>bund_20y</td>\n",
       "      <td>BUNDESBANK/BBK01_WT3449</td>\n",
       "      <td>BUNDESBANK/BBK01_WT34</td>\n",
       "      <td>NaN</td>\n",
       "      <td>49</td>\n",
       "      <td>quandl</td>\n",
       "      <td>eur</td>\n",
       "      <td>germany</td>\n",
       "      <td>government_bond</td>\n",
       "      <td>20</td>\n",
       "      <td>...</td>\n",
       "      <td>constant</td>\n",
       "      <td>par_yield</td>\n",
       "      <td>bundesbank</td>\n",
       "      <td>e</td>\n",
       "      <td>ge</td>\n",
       "      <td>g</td>\n",
       "      <td>20</td>\n",
       "      <td>y</td>\n",
       "      <td>c</td>\n",
       "      <td>py</td>\n",
       "    </tr>\n",
       "    <tr>\n",
       "      <th>egeg30ycpy</th>\n",
       "      <td>bund_30y</td>\n",
       "      <td>BUNDESBANK/BBK01_WT3429</td>\n",
       "      <td>BUNDESBANK/BBK01_WT34</td>\n",
       "      <td>NaN</td>\n",
       "      <td>29</td>\n",
       "      <td>quandl</td>\n",
       "      <td>eur</td>\n",
       "      <td>germany</td>\n",
       "      <td>government_bond</td>\n",
       "      <td>30</td>\n",
       "      <td>...</td>\n",
       "      <td>constant</td>\n",
       "      <td>par_yield</td>\n",
       "      <td>bundesbank</td>\n",
       "      <td>e</td>\n",
       "      <td>ge</td>\n",
       "      <td>g</td>\n",
       "      <td>30</td>\n",
       "      <td>y</td>\n",
       "      <td>c</td>\n",
       "      <td>py</td>\n",
       "    </tr>\n",
       "  </tbody>\n",
       "</table>\n",
       "<p>10 rows × 21 columns</p>\n",
       "</div>"
      ],
      "text/plain": [
       "                name            provider_code                 code#1  code#2  \\\n",
       "my_code                                                                        \n",
       "egeg1ycpy    bund_1y  BUNDESBANK/BBK01_WT3400  BUNDESBANK/BBK01_WT34     0.0   \n",
       "egeg2ycpy    bund_2y  BUNDESBANK/BBK01_WT3401  BUNDESBANK/BBK01_WT34     0.0   \n",
       "egeg3ycpy    bund_3y  BUNDESBANK/BBK01_WT3402  BUNDESBANK/BBK01_WT34     0.0   \n",
       "egeg4ycpy    bund_4y  BUNDESBANK/BBK01_WT3403  BUNDESBANK/BBK01_WT34     0.0   \n",
       "egeg5ycpy    bund_5y  BUNDESBANK/BBK01_WT3404  BUNDESBANK/BBK01_WT34     0.0   \n",
       "egeg7ycpy    bund_7y  BUNDESBANK/BBK01_WT3406  BUNDESBANK/BBK01_WT34     0.0   \n",
       "egeg10ycpy  bund_10y  BUNDESBANK/BBK01_WT3409  BUNDESBANK/BBK01_WT34     0.0   \n",
       "egeg15ycpy  bund_15y  BUNDESBANK/BBK01_WT3439  BUNDESBANK/BBK01_WT34     NaN   \n",
       "egeg20ycpy  bund_20y  BUNDESBANK/BBK01_WT3449  BUNDESBANK/BBK01_WT34     NaN   \n",
       "egeg30ycpy  bund_30y  BUNDESBANK/BBK01_WT3429  BUNDESBANK/BBK01_WT34     NaN   \n",
       "\n",
       "            code#3 data_provider currency   issuer       asset_type  maturity  \\\n",
       "my_code                                                                         \n",
       "egeg1ycpy        0        quandl      eur  germany  government_bond         1   \n",
       "egeg2ycpy        1        quandl      eur  germany  government_bond         2   \n",
       "egeg3ycpy        2        quandl      eur  germany  government_bond         3   \n",
       "egeg4ycpy        3        quandl      eur  germany  government_bond         4   \n",
       "egeg5ycpy        4        quandl      eur  germany  government_bond         5   \n",
       "egeg7ycpy        6        quandl      eur  germany  government_bond         7   \n",
       "egeg10ycpy       9        quandl      eur  germany  government_bond        10   \n",
       "egeg15ycpy      39        quandl      eur  germany  government_bond        15   \n",
       "egeg20ycpy      49        quandl      eur  germany  government_bond        20   \n",
       "egeg30ycpy      29        quandl      eur  germany  government_bond        30   \n",
       "\n",
       "              ...     maturity_type       unit original_data_supplier  \\\n",
       "my_code       ...                                                       \n",
       "egeg1ycpy     ...          constant  par_yield             bundesbank   \n",
       "egeg2ycpy     ...          constant  par_yield             bundesbank   \n",
       "egeg3ycpy     ...          constant  par_yield             bundesbank   \n",
       "egeg4ycpy     ...          constant  par_yield             bundesbank   \n",
       "egeg5ycpy     ...          constant  par_yield             bundesbank   \n",
       "egeg7ycpy     ...          constant  par_yield             bundesbank   \n",
       "egeg10ycpy    ...          constant  par_yield             bundesbank   \n",
       "egeg15ycpy    ...          constant  par_yield             bundesbank   \n",
       "egeg20ycpy    ...          constant  par_yield             bundesbank   \n",
       "egeg30ycpy    ...          constant  par_yield             bundesbank   \n",
       "\n",
       "           currency_short issuer_short asset_type_short maturity_short  \\\n",
       "my_code                                                                  \n",
       "egeg1ycpy               e           ge                g              1   \n",
       "egeg2ycpy               e           ge                g              2   \n",
       "egeg3ycpy               e           ge                g              3   \n",
       "egeg4ycpy               e           ge                g              4   \n",
       "egeg5ycpy               e           ge                g              5   \n",
       "egeg7ycpy               e           ge                g              7   \n",
       "egeg10ycpy              e           ge                g             10   \n",
       "egeg15ycpy              e           ge                g             15   \n",
       "egeg20ycpy              e           ge                g             20   \n",
       "egeg30ycpy              e           ge                g             30   \n",
       "\n",
       "            maturity_unit_short maturity_type_short unit_short  \n",
       "my_code                                                         \n",
       "egeg1ycpy                     y                   c         py  \n",
       "egeg2ycpy                     y                   c         py  \n",
       "egeg3ycpy                     y                   c         py  \n",
       "egeg4ycpy                     y                   c         py  \n",
       "egeg5ycpy                     y                   c         py  \n",
       "egeg7ycpy                     y                   c         py  \n",
       "egeg10ycpy                    y                   c         py  \n",
       "egeg15ycpy                    y                   c         py  \n",
       "egeg20ycpy                    y                   c         py  \n",
       "egeg30ycpy                    y                   c         py  \n",
       "\n",
       "[10 rows x 21 columns]"
      ]
     },
     "execution_count": 5,
     "metadata": {},
     "output_type": "execute_result"
    }
   ],
   "source": [
    "data_codes"
   ]
  },
  {
   "cell_type": "code",
   "execution_count": 6,
   "metadata": {
    "ExecuteTime": {
     "end_time": "2019-10-22T15:04:37.304808Z",
     "start_time": "2019-10-22T15:04:37.217693Z"
    }
   },
   "outputs": [
    {
     "data": {
      "text/plain": [
       "Index(['egeg1ycpy', 'egeg2ycpy', 'egeg3ycpy', 'egeg4ycpy', 'egeg5ycpy',\n",
       "       'egeg7ycpy', 'egeg10ycpy', 'egeg15ycpy', 'egeg20ycpy', 'egeg30ycpy'],\n",
       "      dtype='object', name='my_code')"
      ]
     },
     "execution_count": 6,
     "metadata": {},
     "output_type": "execute_result"
    }
   ],
   "source": [
    "data_codes.index"
   ]
  },
  {
   "cell_type": "code",
   "execution_count": 7,
   "metadata": {
    "ExecuteTime": {
     "end_time": "2019-10-22T15:04:37.428857Z",
     "start_time": "2019-10-22T15:04:37.306120Z"
    },
    "collapsed": true,
    "jupyter": {
     "outputs_hidden": true
    }
   },
   "outputs": [],
   "source": [
    "my_dict = dict(zip(data_codes.index, data_codes['provider_code']))"
   ]
  },
  {
   "cell_type": "code",
   "execution_count": 8,
   "metadata": {
    "ExecuteTime": {
     "end_time": "2019-10-22T15:04:37.533620Z",
     "start_time": "2019-10-22T15:04:37.432983Z"
    }
   },
   "outputs": [
    {
     "data": {
      "text/plain": [
       "'BUNDESBANK/BBK01_WT3449'"
      ]
     },
     "execution_count": 8,
     "metadata": {},
     "output_type": "execute_result"
    }
   ],
   "source": [
    "my_dict['egeg20ycpy']"
   ]
  },
  {
   "cell_type": "code",
   "execution_count": 9,
   "metadata": {
    "ExecuteTime": {
     "end_time": "2019-10-22T15:04:37.601110Z",
     "start_time": "2019-10-22T15:04:37.539537Z"
    }
   },
   "outputs": [
    {
     "data": {
      "text/plain": [
       "'germany'"
      ]
     },
     "execution_count": 9,
     "metadata": {},
     "output_type": "execute_result"
    }
   ],
   "source": [
    "data_codes.at['egeg5ycpy','issuer']"
   ]
  },
  {
   "cell_type": "code",
   "execution_count": 10,
   "metadata": {
    "ExecuteTime": {
     "end_time": "2019-10-22T15:04:38.094332Z",
     "start_time": "2019-10-22T15:04:37.605628Z"
    },
    "collapsed": true,
    "jupyter": {
     "outputs_hidden": true
    }
   },
   "outputs": [],
   "source": [
    "def ts_get(code, start, end, provider):\n",
    "    # Get time series data from various providers\n",
    "    # Returns a dataframe object\n",
    "    if provider == 'quandl':\n",
    "        ts = qd.get(\n",
    "            code,\n",
    "            start_date=start,\n",
    "            end_date=end\n",
    "        )\n",
    "    elif provider == 'FRED':\n",
    "        ts = pd.DataFrame(fred.get_series(series_id=code,\n",
    "                                          observation_start=start,\n",
    "                                          observation_end=end\n",
    "                                          )\n",
    "                          )\n",
    "    return ts"
   ]
  },
  {
   "cell_type": "code",
   "execution_count": 11,
   "metadata": {
    "ExecuteTime": {
     "end_time": "2019-10-22T15:04:38.614367Z",
     "start_time": "2019-10-22T15:04:38.098695Z"
    },
    "collapsed": true,
    "jupyter": {
     "outputs_hidden": true
    }
   },
   "outputs": [],
   "source": [
    "class TimeSeries():\n",
    "    # class of any time series from any data provider (hopefully!)\n",
    "\n",
    "    def __init__(self, code='egeg5ycpy',\n",
    "                 start=dt(2019, 1, 1), end=dt.today()):\n",
    "        self.name = data_codes.at[code, 'name']\n",
    "        self.provider_code = data_codes.at[code, 'provider_code']\n",
    "        self.data_provider = data_codes.at[code, 'data_provider']\n",
    "        self.currency = data_codes.at[code, 'currency']\n",
    "        self.issuer = data_codes.at[code, 'issuer']\n",
    "        self.asset_type = data_codes.at[code, 'asset_type']\n",
    "        self.maturity = data_codes.at[code, 'maturity']\n",
    "        self.maturity_unit = data_codes.at[code, 'maturity_unit']\n",
    "        self.maturity_type = data_codes.at[code, 'maturity_type']\n",
    "        self.unit = data_codes.at[code, 'unit']\n",
    "        self.original_data_supplier = data_codes.at[code,\n",
    "                                                 'original_data_supplier']\n",
    "        self.start = start\n",
    "        self.end = end\n",
    "        self.timeseries = ts_get(self.provider_code,\n",
    "                                self.start,\n",
    "                                self.end,\n",
    "                                self.data_provider)\n"
   ]
  },
  {
   "cell_type": "code",
   "execution_count": 12,
   "metadata": {
    "ExecuteTime": {
     "end_time": "2019-10-22T15:04:39.468332Z",
     "start_time": "2019-10-22T15:04:38.618858Z"
    }
   },
   "outputs": [
    {
     "data": {
      "text/html": [
       "<div>\n",
       "<style scoped>\n",
       "    .dataframe tbody tr th:only-of-type {\n",
       "        vertical-align: middle;\n",
       "    }\n",
       "\n",
       "    .dataframe tbody tr th {\n",
       "        vertical-align: top;\n",
       "    }\n",
       "\n",
       "    .dataframe thead th {\n",
       "        text-align: right;\n",
       "    }\n",
       "</style>\n",
       "<table border=\"1\" class=\"dataframe\">\n",
       "  <thead>\n",
       "    <tr style=\"text-align: right;\">\n",
       "      <th></th>\n",
       "      <th>Value</th>\n",
       "    </tr>\n",
       "    <tr>\n",
       "      <th>Date</th>\n",
       "      <th></th>\n",
       "    </tr>\n",
       "  </thead>\n",
       "  <tbody>\n",
       "    <tr>\n",
       "      <th>2019-10-08</th>\n",
       "      <td>-0.81</td>\n",
       "    </tr>\n",
       "    <tr>\n",
       "      <th>2019-10-09</th>\n",
       "      <td>-0.81</td>\n",
       "    </tr>\n",
       "    <tr>\n",
       "      <th>2019-10-10</th>\n",
       "      <td>-0.76</td>\n",
       "    </tr>\n",
       "    <tr>\n",
       "      <th>2019-10-11</th>\n",
       "      <td>-0.72</td>\n",
       "    </tr>\n",
       "    <tr>\n",
       "      <th>2019-10-14</th>\n",
       "      <td>-0.72</td>\n",
       "    </tr>\n",
       "    <tr>\n",
       "      <th>2019-10-15</th>\n",
       "      <td>-0.70</td>\n",
       "    </tr>\n",
       "    <tr>\n",
       "      <th>2019-10-16</th>\n",
       "      <td>-0.68</td>\n",
       "    </tr>\n",
       "    <tr>\n",
       "      <th>2019-10-17</th>\n",
       "      <td>-0.64</td>\n",
       "    </tr>\n",
       "    <tr>\n",
       "      <th>2019-10-18</th>\n",
       "      <td>-0.64</td>\n",
       "    </tr>\n",
       "    <tr>\n",
       "      <th>2019-10-21</th>\n",
       "      <td>-0.62</td>\n",
       "    </tr>\n",
       "  </tbody>\n",
       "</table>\n",
       "</div>"
      ],
      "text/plain": [
       "            Value\n",
       "Date             \n",
       "2019-10-08  -0.81\n",
       "2019-10-09  -0.81\n",
       "2019-10-10  -0.76\n",
       "2019-10-11  -0.72\n",
       "2019-10-14  -0.72\n",
       "2019-10-15  -0.70\n",
       "2019-10-16  -0.68\n",
       "2019-10-17  -0.64\n",
       "2019-10-18  -0.64\n",
       "2019-10-21  -0.62"
      ]
     },
     "execution_count": 12,
     "metadata": {},
     "output_type": "execute_result"
    }
   ],
   "source": [
    "bund5y = TimeSeries()\n",
    "bund5y.timeseries.tail(10)"
   ]
  },
  {
   "cell_type": "code",
   "execution_count": 13,
   "metadata": {
    "ExecuteTime": {
     "end_time": "2019-10-22T15:04:39.475189Z",
     "start_time": "2019-10-22T15:04:39.469990Z"
    }
   },
   "outputs": [
    {
     "data": {
      "text/plain": [
       "'BUNDESBANK/BBK01_WT3404'"
      ]
     },
     "execution_count": 13,
     "metadata": {},
     "output_type": "execute_result"
    }
   ],
   "source": [
    "bund5y.provider_code"
   ]
  },
  {
   "cell_type": "code",
   "execution_count": 14,
   "metadata": {
    "ExecuteTime": {
     "end_time": "2019-10-22T15:04:39.789107Z",
     "start_time": "2019-10-22T15:04:39.476538Z"
    }
   },
   "outputs": [
    {
     "data": {
      "text/plain": [
       "<matplotlib.axes._subplots.AxesSubplot at 0x7f61469feda0>"
      ]
     },
     "execution_count": 14,
     "metadata": {},
     "output_type": "execute_result"
    },
    {
     "data": {
      "image/png": "[encoded data removed]",
      "text/plain": [
       "<Figure size 432x288 with 1 Axes>"
      ]
     },
     "metadata": {},
     "output_type": "display_data"
    }
   ],
   "source": [
    "bund5y.timeseries.plot()"
   ]
  },
  {
   "cell_type": "markdown",
   "metadata": {},
   "source": [
    "# Test for datavis library: tsget"
   ]
  },
  {
   "cell_type": "code",
   "execution_count": 15,
   "metadata": {
    "ExecuteTime": {
     "end_time": "2019-10-22T15:04:39.799160Z",
     "start_time": "2019-10-22T15:04:39.790603Z"
    }
   },
   "outputs": [],
   "source": [
    "from datavis import tsget as tg"
   ]
  },
  {
   "cell_type": "code",
   "execution_count": 16,
   "metadata": {
    "ExecuteTime": {
     "end_time": "2019-10-22T15:04:40.692237Z",
     "start_time": "2019-10-22T15:04:39.800757Z"
    }
   },
   "outputs": [],
   "source": [
    "compare = tg.TimeSeries('egeg5ycpy')"
   ]
  },
  {
   "cell_type": "code",
   "execution_count": 17,
   "metadata": {
    "ExecuteTime": {
     "end_time": "2019-10-22T15:04:40.840514Z",
     "start_time": "2019-10-22T15:04:40.693467Z"
    }
   },
   "outputs": [
    {
     "data": {
      "text/plain": [
       "<matplotlib.axes._subplots.AxesSubplot at 0x7f613e6180f0>"
      ]
     },
     "execution_count": 17,
     "metadata": {},
     "output_type": "execute_result"
    },
    {
     "data": {
      "image/png": "[encoded data removed]",
      "text/plain": [
       "<Figure size 432x288 with 1 Axes>"
      ]
     },
     "metadata": {},
     "output_type": "display_data"
    }
   ],
   "source": [
    "compare.timeseries.plot()"
   ]
  },
  {
   "cell_type": "code",
   "execution_count": 18,
   "metadata": {
    "ExecuteTime": {
     "end_time": "2019-10-22T15:04:46.540143Z",
     "start_time": "2019-10-22T15:04:40.842085Z"
    }
   },
   "outputs": [
    {
     "data": {
      "text/html": [
       "<div>\n",
       "<style scoped>\n",
       "    .dataframe tbody tr th:only-of-type {\n",
       "        vertical-align: middle;\n",
       "    }\n",
       "\n",
       "    .dataframe tbody tr th {\n",
       "        vertical-align: top;\n",
       "    }\n",
       "\n",
       "    .dataframe thead th {\n",
       "        text-align: right;\n",
       "    }\n",
       "</style>\n",
       "<table border=\"1\" class=\"dataframe\">\n",
       "  <thead>\n",
       "    <tr style=\"text-align: right;\">\n",
       "      <th></th>\n",
       "      <th>bund_1y</th>\n",
       "      <th>bund_2y</th>\n",
       "      <th>bund_3y</th>\n",
       "      <th>bund_4y</th>\n",
       "      <th>bund_5y</th>\n",
       "      <th>bund_7y</th>\n",
       "      <th>bund_10y</th>\n",
       "      <th>bund_15y</th>\n",
       "      <th>bund_20y</th>\n",
       "      <th>bund_30y</th>\n",
       "    </tr>\n",
       "    <tr>\n",
       "      <th>Date</th>\n",
       "      <th></th>\n",
       "      <th></th>\n",
       "      <th></th>\n",
       "      <th></th>\n",
       "      <th></th>\n",
       "      <th></th>\n",
       "      <th></th>\n",
       "      <th></th>\n",
       "      <th></th>\n",
       "      <th></th>\n",
       "    </tr>\n",
       "  </thead>\n",
       "  <tbody>\n",
       "    <tr>\n",
       "      <th>2019-10-15</th>\n",
       "      <td>-0.66</td>\n",
       "      <td>-0.72</td>\n",
       "      <td>-0.74</td>\n",
       "      <td>-0.73</td>\n",
       "      <td>-0.70</td>\n",
       "      <td>-0.62</td>\n",
       "      <td>-0.47</td>\n",
       "      <td>-0.26</td>\n",
       "      <td>-0.10</td>\n",
       "      <td>0.07</td>\n",
       "    </tr>\n",
       "    <tr>\n",
       "      <th>2019-10-16</th>\n",
       "      <td>-0.67</td>\n",
       "      <td>-0.72</td>\n",
       "      <td>-0.73</td>\n",
       "      <td>-0.71</td>\n",
       "      <td>-0.68</td>\n",
       "      <td>-0.58</td>\n",
       "      <td>-0.43</td>\n",
       "      <td>-0.23</td>\n",
       "      <td>-0.08</td>\n",
       "      <td>0.10</td>\n",
       "    </tr>\n",
       "    <tr>\n",
       "      <th>2019-10-17</th>\n",
       "      <td>-0.65</td>\n",
       "      <td>-0.69</td>\n",
       "      <td>-0.69</td>\n",
       "      <td>-0.67</td>\n",
       "      <td>-0.64</td>\n",
       "      <td>-0.54</td>\n",
       "      <td>-0.38</td>\n",
       "      <td>-0.16</td>\n",
       "      <td>-0.01</td>\n",
       "      <td>0.17</td>\n",
       "    </tr>\n",
       "    <tr>\n",
       "      <th>2019-10-18</th>\n",
       "      <td>-0.65</td>\n",
       "      <td>-0.69</td>\n",
       "      <td>-0.69</td>\n",
       "      <td>-0.67</td>\n",
       "      <td>-0.64</td>\n",
       "      <td>-0.55</td>\n",
       "      <td>-0.39</td>\n",
       "      <td>-0.18</td>\n",
       "      <td>-0.02</td>\n",
       "      <td>0.15</td>\n",
       "    </tr>\n",
       "    <tr>\n",
       "      <th>2019-10-21</th>\n",
       "      <td>-0.65</td>\n",
       "      <td>-0.69</td>\n",
       "      <td>-0.69</td>\n",
       "      <td>-0.66</td>\n",
       "      <td>-0.62</td>\n",
       "      <td>-0.51</td>\n",
       "      <td>-0.35</td>\n",
       "      <td>-0.13</td>\n",
       "      <td>0.03</td>\n",
       "      <td>0.20</td>\n",
       "    </tr>\n",
       "  </tbody>\n",
       "</table>\n",
       "</div>"
      ],
      "text/plain": [
       "            bund_1y  bund_2y  bund_3y  bund_4y  bund_5y  bund_7y  bund_10y  \\\n",
       "Date                                                                         \n",
       "2019-10-15    -0.66    -0.72    -0.74    -0.73    -0.70    -0.62     -0.47   \n",
       "2019-10-16    -0.67    -0.72    -0.73    -0.71    -0.68    -0.58     -0.43   \n",
       "2019-10-17    -0.65    -0.69    -0.69    -0.67    -0.64    -0.54     -0.38   \n",
       "2019-10-18    -0.65    -0.69    -0.69    -0.67    -0.64    -0.55     -0.39   \n",
       "2019-10-21    -0.65    -0.69    -0.69    -0.66    -0.62    -0.51     -0.35   \n",
       "\n",
       "            bund_15y  bund_20y  bund_30y  \n",
       "Date                                      \n",
       "2019-10-15     -0.26     -0.10      0.07  \n",
       "2019-10-16     -0.23     -0.08      0.10  \n",
       "2019-10-17     -0.16     -0.01      0.17  \n",
       "2019-10-18     -0.18     -0.02      0.15  \n",
       "2019-10-21     -0.13      0.03      0.20  "
      ]
     },
     "execution_count": 18,
     "metadata": {},
     "output_type": "execute_result"
    }
   ],
   "source": [
    "bund_curve = tg.yield_curve()\n",
    "bund_curve.tail()"
   ]
  },
  {
   "cell_type": "code",
   "execution_count": null,
   "metadata": {
    "ExecuteTime": {
     "end_time": "2019-10-22T15:04:46.544888Z",
     "start_time": "2019-10-22T15:04:46.541425Z"
    }
   },
   "outputs": [],
   "source": []
  },
  {
   "cell_type": "code",
   "execution_count": null,
   "metadata": {
    "collapsed": true,
    "jupyter": {
     "outputs_hidden": true
    }
   },
   "outputs": [],
   "source": []
  }
 ],
 "metadata": {
  "kernelspec": {
   "display_name": "Python 3",
   "language": "python",
   "name": "python3"
  },
  "language_info": {
   "codemirror_mode": {
    "name": "ipython",
    "version": 3
   },
   "file_extension": ".py",
   "mimetype": "text/x-python",
   "name": "python",
   "nbconvert_exporter": "python",
   "pygments_lexer": "ipython3",
   "version": "3.6.8"
  },
  "toc": {
   "base_numbering": 1,
   "nav_menu": {},
   "number_sections": true,
   "sideBar": true,
   "skip_h1_title": false,
   "title_cell": "Table of Contents",
   "title_sidebar": "Contents",
   "toc_cell": false,
   "toc_position": {},
   "toc_section_display": true,
   "toc_window_display": false
  },
  "varInspector": {
   "cols": {
    "lenName": 16,
    "lenType": 16,
    "lenVar": 40
   },
   "kernels_config": {
    "python": {
     "delete_cmd_postfix": "",
     "delete_cmd_prefix": "del ",
     "library": "var_list.py",
     "varRefreshCmd": "print(var_dic_list())"
    },
    "r": {
     "delete_cmd_postfix": ") ",
     "delete_cmd_prefix": "rm(",
     "library": "var_list.r",
     "varRefreshCmd": "cat(var_dic_list()) "
    }
   },
   "types_to_exclude": [
    "module",
    "function",
    "builtin_function_or_method",
    "instance",
    "_Feature"
   ],
   "window_display": false
  }
 },
 "nbformat": 4,
 "nbformat_minor": 4
}
