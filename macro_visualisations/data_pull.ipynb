{
 "cells": [
  {
   "cell_type": "markdown",
   "metadata": {},
   "source": [
    "# Data pull\n",
    "\n",
    "Aim to pull data with tsget.py script and to test its functionality.\n",
    "\n",
    "A CSV file of data provider codes and pulls is maintained in ~/alex/datascienceprojects/macro_visualisations/ref_data/\n",
    "\n",
    "So far I have the following\n",
    "- Bund constant maturity yields for 1, 2, 3, 4, 5, 7, 10, 15, 20, 30y\n",
    "- Gilt constant maturity nomonial, zc, inflation breakeven and real yields for 5, 10, 20y\n",
    "\n"
   ]
  },
  {
   "cell_type": "code",
   "execution_count": 1,
   "metadata": {
    "ExecuteTime": {
     "end_time": "2019-10-23T11:41:58.613836Z",
     "start_time": "2019-10-23T11:41:57.891770Z"
    }
   },
   "outputs": [],
   "source": [
    "from datavis import tsget as tg\n",
    "\n",
    "import matplotlib.pyplot as plt\n",
    "import numpy as np\n",
    "from datetime import datetime as dt\n",
    "import pandas as pd\n",
    "\n",
    "# %matplotlib notebook\n",
    "%matplotlib inline"
   ]
  },
  {
   "cell_type": "markdown",
   "metadata": {},
   "source": [
    "## Quick tester to see if quandl code is working"
   ]
  },
  {
   "cell_type": "code",
   "execution_count": 2,
   "metadata": {
    "ExecuteTime": {
     "end_time": "2019-10-23T11:43:55.262212Z",
     "start_time": "2019-10-23T11:43:55.255121Z"
    }
   },
   "outputs": [
    {
     "data": {
      "text/plain": [
       "'BOE/IUDMRZC'"
      ]
     },
     "execution_count": 2,
     "metadata": {},
     "output_type": "execute_result"
    }
   ],
   "source": [
    "static = tg.get_data_codes()\n",
    "static.at['gukg10ycry','provider_code']"
   ]
  },
  {
   "cell_type": "code",
   "execution_count": 3,
   "metadata": {
    "ExecuteTime": {
     "end_time": "2019-10-23T11:48:24.998288Z",
     "start_time": "2019-10-23T11:48:24.063830Z"
    }
   },
   "outputs": [
    {
     "data": {
      "text/html": [
       "<div>\n",
       "<style scoped>\n",
       "    .dataframe tbody tr th:only-of-type {\n",
       "        vertical-align: middle;\n",
       "    }\n",
       "\n",
       "    .dataframe tbody tr th {\n",
       "        vertical-align: top;\n",
       "    }\n",
       "\n",
       "    .dataframe thead th {\n",
       "        text-align: right;\n",
       "    }\n",
       "</style>\n",
       "<table border=\"1\" class=\"dataframe\">\n",
       "  <thead>\n",
       "    <tr style=\"text-align: right;\">\n",
       "      <th></th>\n",
       "      <th>Value</th>\n",
       "    </tr>\n",
       "    <tr>\n",
       "      <th>Date</th>\n",
       "      <th></th>\n",
       "    </tr>\n",
       "  </thead>\n",
       "  <tbody>\n",
       "    <tr>\n",
       "      <th>2016-12-22</th>\n",
       "      <td>-1.8245</td>\n",
       "    </tr>\n",
       "    <tr>\n",
       "      <th>2016-12-23</th>\n",
       "      <td>-1.8499</td>\n",
       "    </tr>\n",
       "    <tr>\n",
       "      <th>2016-12-28</th>\n",
       "      <td>-1.8865</td>\n",
       "    </tr>\n",
       "    <tr>\n",
       "      <th>2016-12-29</th>\n",
       "      <td>-1.9415</td>\n",
       "    </tr>\n",
       "    <tr>\n",
       "      <th>2016-12-30</th>\n",
       "      <td>-1.9639</td>\n",
       "    </tr>\n",
       "  </tbody>\n",
       "</table>\n",
       "</div>"
      ],
      "text/plain": [
       "             Value\n",
       "Date              \n",
       "2016-12-22 -1.8245\n",
       "2016-12-23 -1.8499\n",
       "2016-12-28 -1.8865\n",
       "2016-12-29 -1.9415\n",
       "2016-12-30 -1.9639"
      ]
     },
     "execution_count": 3,
     "metadata": {},
     "output_type": "execute_result"
    }
   ],
   "source": [
    "import quandl as qd\n",
    "from pandas_datareader import data\n",
    "qd.ApiConfig.api_key = \"Pn4VQFgZqt6Uid7qWa_p\"\n",
    "\n",
    "test_df = qd.get('BOE/IUDMRZC',start_date=dt(2016,1,1),\n",
    "                 end_date=dt(2017,1,1))\n",
    "test_df.tail()"
   ]
  },
  {
   "cell_type": "markdown",
   "metadata": {},
   "source": [
    "## Use TimeSeries() class to create TimeSeries objects\n",
    "\n",
    "Examples:\n",
    "* egeg5ycpy - eur german govt bond 5y constant maturity par yield\n",
    "* gukg10ycry - gbp uk govt bond 10y constant maturity real yield \n"
   ]
  },
  {
   "cell_type": "code",
   "execution_count": 4,
   "metadata": {},
   "outputs": [
    {
     "data": {
      "text/plain": [
       "'quandl'"
      ]
     },
     "execution_count": 4,
     "metadata": {},
     "output_type": "execute_result"
    }
   ],
   "source": [
    "csv = tg.get_data_codes()\n",
    "csv.loc['egeg5ycpy','data_provider']"
   ]
  },
  {
   "cell_type": "code",
   "execution_count": 5,
   "metadata": {
    "ExecuteTime": {
     "end_time": "2019-10-23T11:54:39.003949Z",
     "start_time": "2019-10-23T11:54:36.871376Z"
    }
   },
   "outputs": [
    {
     "name": "stdout",
     "output_type": "stream",
     "text": [
      "2019-01-01 00:00:00\n",
      "bund_5y\n",
      "bundesbank\n",
      "            Value\n",
      "Date             \n",
      "2019-11-11  -0.54\n",
      "2019-11-12  -0.53\n",
      "2019-11-13  -0.56\n",
      "2019-11-14  -0.58\n",
      "2019-11-15  -0.60\n",
      "\n",
      "2019-06-01 00:00:00\n",
      "government_bond\n",
      "year\n",
      "             Value\n",
      "Date              \n",
      "2019-11-07  0.7480\n",
      "2019-11-08  0.7736\n",
      "2019-11-11  0.7844\n",
      "2019-11-12  0.7934\n",
      "2019-11-13  0.7377\n"
     ]
    }
   ],
   "source": [
    "bund_5y = tg.TimeSeries(code='egeg5ycpy')\n",
    "print(bund_5y.start)\n",
    "print(bund_5y.name)\n",
    "print(bund_5y.original_data_supplier)\n",
    "print(bund_5y.timeseries.tail())\n",
    "print()\n",
    "\n",
    "gilt_ry_10y = tg.TimeSeries(code='gukg10yczy',start=dt(2019,6,1))\n",
    "print(gilt_ry_10y.start)\n",
    "print(gilt_ry_10y.asset_type)\n",
    "print(gilt_ry_10y.maturity_unit)\n",
    "print(gilt_ry_10y.timeseries.tail())"
   ]
  },
  {
   "cell_type": "code",
   "execution_count": 6,
   "metadata": {
    "ExecuteTime": {
     "end_time": "2019-10-17T10:59:42.042459Z",
     "start_time": "2019-10-17T10:59:36.740607Z"
    }
   },
   "outputs": [
    {
     "data": {
      "text/html": [
       "<div>\n",
       "<style scoped>\n",
       "    .dataframe tbody tr th:only-of-type {\n",
       "        vertical-align: middle;\n",
       "    }\n",
       "\n",
       "    .dataframe tbody tr th {\n",
       "        vertical-align: top;\n",
       "    }\n",
       "\n",
       "    .dataframe thead th {\n",
       "        text-align: right;\n",
       "    }\n",
       "</style>\n",
       "<table border=\"1\" class=\"dataframe\">\n",
       "  <thead>\n",
       "    <tr style=\"text-align: right;\">\n",
       "      <th></th>\n",
       "      <th>bund_1y</th>\n",
       "      <th>bund_2y</th>\n",
       "      <th>bund_3y</th>\n",
       "      <th>bund_4y</th>\n",
       "      <th>bund_5y</th>\n",
       "      <th>bund_7y</th>\n",
       "      <th>bund_10y</th>\n",
       "      <th>bund_15y</th>\n",
       "      <th>bund_20y</th>\n",
       "      <th>bund_30y</th>\n",
       "    </tr>\n",
       "    <tr>\n",
       "      <th>Date</th>\n",
       "      <th></th>\n",
       "      <th></th>\n",
       "      <th></th>\n",
       "      <th></th>\n",
       "      <th></th>\n",
       "      <th></th>\n",
       "      <th></th>\n",
       "      <th></th>\n",
       "      <th></th>\n",
       "      <th></th>\n",
       "    </tr>\n",
       "  </thead>\n",
       "  <tbody>\n",
       "    <tr>\n",
       "      <th>2019-11-11</th>\n",
       "      <td>-0.64</td>\n",
       "      <td>-0.64</td>\n",
       "      <td>-0.62</td>\n",
       "      <td>-0.59</td>\n",
       "      <td>-0.54</td>\n",
       "      <td>-0.43</td>\n",
       "      <td>-0.26</td>\n",
       "      <td>-0.05</td>\n",
       "      <td>0.10</td>\n",
       "      <td>0.26</td>\n",
       "    </tr>\n",
       "    <tr>\n",
       "      <th>2019-11-12</th>\n",
       "      <td>-0.64</td>\n",
       "      <td>-0.65</td>\n",
       "      <td>-0.63</td>\n",
       "      <td>-0.58</td>\n",
       "      <td>-0.53</td>\n",
       "      <td>-0.41</td>\n",
       "      <td>-0.24</td>\n",
       "      <td>-0.01</td>\n",
       "      <td>0.15</td>\n",
       "      <td>0.31</td>\n",
       "    </tr>\n",
       "    <tr>\n",
       "      <th>2019-11-13</th>\n",
       "      <td>-0.64</td>\n",
       "      <td>-0.65</td>\n",
       "      <td>-0.64</td>\n",
       "      <td>-0.60</td>\n",
       "      <td>-0.56</td>\n",
       "      <td>-0.45</td>\n",
       "      <td>-0.29</td>\n",
       "      <td>-0.07</td>\n",
       "      <td>0.07</td>\n",
       "      <td>0.23</td>\n",
       "    </tr>\n",
       "    <tr>\n",
       "      <th>2019-11-14</th>\n",
       "      <td>-0.65</td>\n",
       "      <td>-0.66</td>\n",
       "      <td>-0.65</td>\n",
       "      <td>-0.62</td>\n",
       "      <td>-0.58</td>\n",
       "      <td>-0.49</td>\n",
       "      <td>-0.33</td>\n",
       "      <td>-0.11</td>\n",
       "      <td>0.04</td>\n",
       "      <td>0.20</td>\n",
       "    </tr>\n",
       "    <tr>\n",
       "      <th>2019-11-15</th>\n",
       "      <td>-0.66</td>\n",
       "      <td>-0.67</td>\n",
       "      <td>-0.66</td>\n",
       "      <td>-0.64</td>\n",
       "      <td>-0.60</td>\n",
       "      <td>-0.49</td>\n",
       "      <td>-0.33</td>\n",
       "      <td>-0.11</td>\n",
       "      <td>0.03</td>\n",
       "      <td>0.18</td>\n",
       "    </tr>\n",
       "  </tbody>\n",
       "</table>\n",
       "</div>"
      ],
      "text/plain": [
       "            bund_1y  bund_2y  bund_3y  bund_4y  bund_5y  bund_7y  bund_10y  \\\n",
       "Date                                                                         \n",
       "2019-11-11    -0.64    -0.64    -0.62    -0.59    -0.54    -0.43     -0.26   \n",
       "2019-11-12    -0.64    -0.65    -0.63    -0.58    -0.53    -0.41     -0.24   \n",
       "2019-11-13    -0.64    -0.65    -0.64    -0.60    -0.56    -0.45     -0.29   \n",
       "2019-11-14    -0.65    -0.66    -0.65    -0.62    -0.58    -0.49     -0.33   \n",
       "2019-11-15    -0.66    -0.67    -0.66    -0.64    -0.60    -0.49     -0.33   \n",
       "\n",
       "            bund_15y  bund_20y  bund_30y  \n",
       "Date                                      \n",
       "2019-11-11     -0.05      0.10      0.26  \n",
       "2019-11-12     -0.01      0.15      0.31  \n",
       "2019-11-13     -0.07      0.07      0.23  \n",
       "2019-11-14     -0.11      0.04      0.20  \n",
       "2019-11-15     -0.11      0.03      0.18  "
      ]
     },
     "execution_count": 6,
     "metadata": {},
     "output_type": "execute_result"
    }
   ],
   "source": [
    "bunds = tg.yield_curve()\n",
    "bunds.tail()"
   ]
  },
  {
   "cell_type": "code",
   "execution_count": 7,
   "metadata": {
    "ExecuteTime": {
     "end_time": "2019-10-17T10:59:43.384561Z",
     "start_time": "2019-10-17T10:59:42.060951Z"
    }
   },
   "outputs": [
    {
     "data": {
      "text/plain": [
       "<matplotlib.axes._subplots.AxesSubplot at 0x7f522baf5160>"
      ]
     },
     "execution_count": 7,
     "metadata": {},
     "output_type": "execute_result"
    },
    {
     "data": {
      "image/png": "[encoded data removed]",
      "text/plain": [
       "<Figure size 432x288 with 1 Axes>"
      ]
     },
     "metadata": {},
     "output_type": "display_data"
    }
   ],
   "source": [
    "bunds.plot(legend=False)"
   ]
  },
  {
   "cell_type": "markdown",
   "metadata": {
    "jupyter": {
     "outputs_hidden": true
    }
   },
   "source": [
    "## Create objects for economic data specifying data revisions"
   ]
  },
  {
   "cell_type": "code",
   "execution_count": 8,
   "metadata": {},
   "outputs": [],
   "source": [
    "nfp = tg.Data_Releases('udnfp_total',revisions=[0,1],revs_from_last=[0])"
   ]
  },
  {
   "cell_type": "code",
   "execution_count": 9,
   "metadata": {},
   "outputs": [
    {
     "data": {
      "text/html": [
       "<div>\n",
       "<style scoped>\n",
       "    .dataframe tbody tr th:only-of-type {\n",
       "        vertical-align: middle;\n",
       "    }\n",
       "\n",
       "    .dataframe tbody tr th {\n",
       "        vertical-align: top;\n",
       "    }\n",
       "\n",
       "    .dataframe thead tr th {\n",
       "        text-align: left;\n",
       "    }\n",
       "\n",
       "    .dataframe thead tr:last-of-type th {\n",
       "        text-align: right;\n",
       "    }\n",
       "</style>\n",
       "<table border=\"1\" class=\"dataframe\">\n",
       "  <thead>\n",
       "    <tr>\n",
       "      <th></th>\n",
       "      <th>releases</th>\n",
       "      <th colspan=\"3\" halign=\"left\">values</th>\n",
       "      <th colspan=\"3\" halign=\"left\">release_dates</th>\n",
       "      <th colspan=\"3\" halign=\"left\">[CHECK!]_release_no</th>\n",
       "    </tr>\n",
       "    <tr>\n",
       "      <th></th>\n",
       "      <th>releases</th>\n",
       "      <th>rev_0</th>\n",
       "      <th>rev_1</th>\n",
       "      <th>rev_0th_last</th>\n",
       "      <th>rev_0</th>\n",
       "      <th>rev_1</th>\n",
       "      <th>rev_0th_last</th>\n",
       "      <th>rev_0</th>\n",
       "      <th>rev_1</th>\n",
       "      <th>rev_0th_last</th>\n",
       "    </tr>\n",
       "    <tr>\n",
       "      <th>date</th>\n",
       "      <th></th>\n",
       "      <th></th>\n",
       "      <th></th>\n",
       "      <th></th>\n",
       "      <th></th>\n",
       "      <th></th>\n",
       "      <th></th>\n",
       "      <th></th>\n",
       "      <th></th>\n",
       "      <th></th>\n",
       "    </tr>\n",
       "  </thead>\n",
       "  <tbody>\n",
       "    <tr>\n",
       "      <th>2019-01-01</th>\n",
       "      <td>3</td>\n",
       "      <td>150574.0</td>\n",
       "      <td>150586.0</td>\n",
       "      <td>150587.0</td>\n",
       "      <td>2019-02-01</td>\n",
       "      <td>2019-03-08 00:00:00</td>\n",
       "      <td>2019-04-05 00:00:00</td>\n",
       "      <td>1</td>\n",
       "      <td>2</td>\n",
       "      <td>3</td>\n",
       "    </tr>\n",
       "    <tr>\n",
       "      <th>2019-02-01</th>\n",
       "      <td>3</td>\n",
       "      <td>150606.0</td>\n",
       "      <td>150620.0</td>\n",
       "      <td>150643.0</td>\n",
       "      <td>2019-03-08</td>\n",
       "      <td>2019-04-05 00:00:00</td>\n",
       "      <td>2019-05-03 00:00:00</td>\n",
       "      <td>1</td>\n",
       "      <td>2</td>\n",
       "      <td>3</td>\n",
       "    </tr>\n",
       "    <tr>\n",
       "      <th>2019-03-01</th>\n",
       "      <td>3</td>\n",
       "      <td>150816.0</td>\n",
       "      <td>150832.0</td>\n",
       "      <td>150796.0</td>\n",
       "      <td>2019-04-05</td>\n",
       "      <td>2019-05-03 00:00:00</td>\n",
       "      <td>2019-06-07 00:00:00</td>\n",
       "      <td>1</td>\n",
       "      <td>2</td>\n",
       "      <td>3</td>\n",
       "    </tr>\n",
       "    <tr>\n",
       "      <th>2019-04-01</th>\n",
       "      <td>3</td>\n",
       "      <td>151095.0</td>\n",
       "      <td>151020.0</td>\n",
       "      <td>151012.0</td>\n",
       "      <td>2019-05-03</td>\n",
       "      <td>2019-06-07 00:00:00</td>\n",
       "      <td>2019-07-05 00:00:00</td>\n",
       "      <td>1</td>\n",
       "      <td>2</td>\n",
       "      <td>3</td>\n",
       "    </tr>\n",
       "    <tr>\n",
       "      <th>2019-05-01</th>\n",
       "      <td>3</td>\n",
       "      <td>151095.0</td>\n",
       "      <td>151084.0</td>\n",
       "      <td>151074.0</td>\n",
       "      <td>2019-06-07</td>\n",
       "      <td>2019-07-05 00:00:00</td>\n",
       "      <td>2019-08-02 00:00:00</td>\n",
       "      <td>1</td>\n",
       "      <td>2</td>\n",
       "      <td>3</td>\n",
       "    </tr>\n",
       "    <tr>\n",
       "      <th>2019-06-01</th>\n",
       "      <td>3</td>\n",
       "      <td>151308.0</td>\n",
       "      <td>151267.0</td>\n",
       "      <td>151252.0</td>\n",
       "      <td>2019-07-05</td>\n",
       "      <td>2019-08-02 00:00:00</td>\n",
       "      <td>2019-09-06 00:00:00</td>\n",
       "      <td>1</td>\n",
       "      <td>2</td>\n",
       "      <td>3</td>\n",
       "    </tr>\n",
       "    <tr>\n",
       "      <th>2019-07-01</th>\n",
       "      <td>3</td>\n",
       "      <td>151431.0</td>\n",
       "      <td>151411.0</td>\n",
       "      <td>151418.0</td>\n",
       "      <td>2019-08-02</td>\n",
       "      <td>2019-09-06 00:00:00</td>\n",
       "      <td>2019-10-04 00:00:00</td>\n",
       "      <td>1</td>\n",
       "      <td>2</td>\n",
       "      <td>3</td>\n",
       "    </tr>\n",
       "    <tr>\n",
       "      <th>2019-08-01</th>\n",
       "      <td>3</td>\n",
       "      <td>151541.0</td>\n",
       "      <td>151586.0</td>\n",
       "      <td>151637.0</td>\n",
       "      <td>2019-09-06</td>\n",
       "      <td>2019-10-04 00:00:00</td>\n",
       "      <td>2019-11-01 00:00:00</td>\n",
       "      <td>1</td>\n",
       "      <td>2</td>\n",
       "      <td>3</td>\n",
       "    </tr>\n",
       "    <tr>\n",
       "      <th>2019-09-01</th>\n",
       "      <td>2</td>\n",
       "      <td>151722.0</td>\n",
       "      <td>151817.0</td>\n",
       "      <td>NaN</td>\n",
       "      <td>2019-10-04</td>\n",
       "      <td>2019-11-01 00:00:00</td>\n",
       "      <td>NaN</td>\n",
       "      <td>1</td>\n",
       "      <td>2</td>\n",
       "      <td>2</td>\n",
       "    </tr>\n",
       "    <tr>\n",
       "      <th>2019-10-01</th>\n",
       "      <td>1</td>\n",
       "      <td>151945.0</td>\n",
       "      <td>NaN</td>\n",
       "      <td>NaN</td>\n",
       "      <td>2019-11-01</td>\n",
       "      <td>NaN</td>\n",
       "      <td>NaN</td>\n",
       "      <td>1</td>\n",
       "      <td>1</td>\n",
       "      <td>1</td>\n",
       "    </tr>\n",
       "  </tbody>\n",
       "</table>\n",
       "</div>"
      ],
      "text/plain": [
       "           releases    values                        release_dates  \\\n",
       "           releases     rev_0     rev_1 rev_0th_last         rev_0   \n",
       "date                                                                 \n",
       "2019-01-01        3  150574.0  150586.0     150587.0    2019-02-01   \n",
       "2019-02-01        3  150606.0  150620.0     150643.0    2019-03-08   \n",
       "2019-03-01        3  150816.0  150832.0     150796.0    2019-04-05   \n",
       "2019-04-01        3  151095.0  151020.0     151012.0    2019-05-03   \n",
       "2019-05-01        3  151095.0  151084.0     151074.0    2019-06-07   \n",
       "2019-06-01        3  151308.0  151267.0     151252.0    2019-07-05   \n",
       "2019-07-01        3  151431.0  151411.0     151418.0    2019-08-02   \n",
       "2019-08-01        3  151541.0  151586.0     151637.0    2019-09-06   \n",
       "2019-09-01        2  151722.0  151817.0          NaN    2019-10-04   \n",
       "2019-10-01        1  151945.0       NaN          NaN    2019-11-01   \n",
       "\n",
       "                                                     [CHECK!]_release_no  \\\n",
       "                          rev_1         rev_0th_last               rev_0   \n",
       "date                                                                       \n",
       "2019-01-01  2019-03-08 00:00:00  2019-04-05 00:00:00                   1   \n",
       "2019-02-01  2019-04-05 00:00:00  2019-05-03 00:00:00                   1   \n",
       "2019-03-01  2019-05-03 00:00:00  2019-06-07 00:00:00                   1   \n",
       "2019-04-01  2019-06-07 00:00:00  2019-07-05 00:00:00                   1   \n",
       "2019-05-01  2019-07-05 00:00:00  2019-08-02 00:00:00                   1   \n",
       "2019-06-01  2019-08-02 00:00:00  2019-09-06 00:00:00                   1   \n",
       "2019-07-01  2019-09-06 00:00:00  2019-10-04 00:00:00                   1   \n",
       "2019-08-01  2019-10-04 00:00:00  2019-11-01 00:00:00                   1   \n",
       "2019-09-01  2019-11-01 00:00:00                  NaN                   1   \n",
       "2019-10-01                  NaN                  NaN                   1   \n",
       "\n",
       "                               \n",
       "           rev_1 rev_0th_last  \n",
       "date                           \n",
       "2019-01-01     2            3  \n",
       "2019-02-01     2            3  \n",
       "2019-03-01     2            3  \n",
       "2019-04-01     2            3  \n",
       "2019-05-01     2            3  \n",
       "2019-06-01     2            3  \n",
       "2019-07-01     2            3  \n",
       "2019-08-01     2            3  \n",
       "2019-09-01     2            2  \n",
       "2019-10-01     1            1  "
      ]
     },
     "execution_count": 9,
     "metadata": {},
     "output_type": "execute_result"
    }
   ],
   "source": [
    "nfp.timeseries.tail(10)"
   ]
  },
  {
   "cell_type": "markdown",
   "metadata": {},
   "source": [
    "### Calc to get original reported NFP change"
   ]
  },
  {
   "cell_type": "code",
   "execution_count": 10,
   "metadata": {},
   "outputs": [],
   "source": [
    "nfp_change = nfp.timeseries[('values','rev_0')] - nfp.timeseries.shift(periods=1)[('values','rev_1')]"
   ]
  },
  {
   "cell_type": "code",
   "execution_count": 11,
   "metadata": {},
   "outputs": [
    {
     "data": {
      "text/plain": [
       "date\n",
       "2019-01-01    304.0\n",
       "2019-02-01     20.0\n",
       "2019-03-01    196.0\n",
       "2019-04-01    263.0\n",
       "2019-05-01     75.0\n",
       "2019-06-01    224.0\n",
       "2019-07-01    164.0\n",
       "2019-08-01    130.0\n",
       "2019-09-01    136.0\n",
       "2019-10-01    128.0\n",
       "dtype: float64"
      ]
     },
     "execution_count": 11,
     "metadata": {},
     "output_type": "execute_result"
    }
   ],
   "source": [
    "nfp_change.tail(10)"
   ]
  },
  {
   "cell_type": "markdown",
   "metadata": {
    "jupyter": {
     "outputs_hidden": true
    }
   },
   "source": [
    "Need to reindex the series to be useful for back tests etc."
   ]
  },
  {
   "cell_type": "code",
   "execution_count": 19,
   "metadata": {},
   "outputs": [
    {
     "data": {
      "text/html": [
       "<div>\n",
       "<style scoped>\n",
       "    .dataframe tbody tr th:only-of-type {\n",
       "        vertical-align: middle;\n",
       "    }\n",
       "\n",
       "    .dataframe tbody tr th {\n",
       "        vertical-align: top;\n",
       "    }\n",
       "\n",
       "    .dataframe thead th {\n",
       "        text-align: right;\n",
       "    }\n",
       "</style>\n",
       "<table border=\"1\" class=\"dataframe\">\n",
       "  <thead>\n",
       "    <tr style=\"text-align: right;\">\n",
       "      <th></th>\n",
       "      <th>value</th>\n",
       "      <th>data_point</th>\n",
       "    </tr>\n",
       "    <tr>\n",
       "      <th>(release_dates, rev_0)</th>\n",
       "      <th></th>\n",
       "      <th></th>\n",
       "    </tr>\n",
       "  </thead>\n",
       "  <tbody>\n",
       "    <tr>\n",
       "      <th>2019-07-05</th>\n",
       "      <td>224.0</td>\n",
       "      <td>2019-07-05</td>\n",
       "    </tr>\n",
       "    <tr>\n",
       "      <th>2019-08-02</th>\n",
       "      <td>164.0</td>\n",
       "      <td>2019-08-02</td>\n",
       "    </tr>\n",
       "    <tr>\n",
       "      <th>2019-09-06</th>\n",
       "      <td>130.0</td>\n",
       "      <td>2019-09-06</td>\n",
       "    </tr>\n",
       "    <tr>\n",
       "      <th>2019-10-04</th>\n",
       "      <td>136.0</td>\n",
       "      <td>2019-10-04</td>\n",
       "    </tr>\n",
       "    <tr>\n",
       "      <th>2019-11-01</th>\n",
       "      <td>128.0</td>\n",
       "      <td>2019-11-01</td>\n",
       "    </tr>\n",
       "  </tbody>\n",
       "</table>\n",
       "</div>"
      ],
      "text/plain": [
       "                        value data_point\n",
       "(release_dates, rev_0)                  \n",
       "2019-07-05              224.0 2019-07-05\n",
       "2019-08-02              164.0 2019-08-02\n",
       "2019-09-06              130.0 2019-09-06\n",
       "2019-10-04              136.0 2019-10-04\n",
       "2019-11-01              128.0 2019-11-01"
      ]
     },
     "execution_count": 19,
     "metadata": {},
     "output_type": "execute_result"
    }
   ],
   "source": [
    "nfp_change = pd.DataFrame(nfp_change, columns=['value'])\n",
    "nfp_change['data_point'] = nfp_change.index\n",
    "nfp_change.index = nfp.timeseries[('release_dates','rev_0')]\n",
    "nfp_change.tail()"
   ]
  },
  {
   "cell_type": "code",
   "execution_count": null,
   "metadata": {},
   "outputs": [],
   "source": []
  }
 ],
 "metadata": {
  "kernelspec": {
   "display_name": "Python 3",
   "language": "python",
   "name": "python3"
  },
  "language_info": {
   "codemirror_mode": {
    "name": "ipython",
    "version": 3
   },
   "file_extension": ".py",
   "mimetype": "text/x-python",
   "name": "python",
   "nbconvert_exporter": "python",
   "pygments_lexer": "ipython3",
   "version": "3.6.8"
  },
  "toc": {
   "base_numbering": 1,
   "nav_menu": {},
   "number_sections": true,
   "sideBar": true,
   "skip_h1_title": false,
   "title_cell": "Table of Contents",
   "title_sidebar": "Contents",
   "toc_cell": false,
   "toc_position": {
    "height": "calc(100% - 180px)",
    "left": "10px",
    "top": "150px",
    "width": "165px"
   },
   "toc_section_display": true,
   "toc_window_display": true
  },
  "varInspector": {
   "cols": {
    "lenName": 16,
    "lenType": 16,
    "lenVar": 40
   },
   "kernels_config": {
    "python": {
     "delete_cmd_postfix": "",
     "delete_cmd_prefix": "del ",
     "library": "var_list.py",
     "varRefreshCmd": "print(var_dic_list())"
    },
    "r": {
     "delete_cmd_postfix": ") ",
     "delete_cmd_prefix": "rm(",
     "library": "var_list.r",
     "varRefreshCmd": "cat(var_dic_list()) "
    }
   },
   "oldHeight": 122,
   "position": {
    "height": "40px",
    "left": "1072px",
    "right": "20px",
    "top": "120px",
    "width": "250px"
   },
   "types_to_exclude": [
    "module",
    "function",
    "builtin_function_or_method",
    "instance",
    "_Feature"
   ],
   "varInspector_section_display": "none",
   "window_display": true
  }
 },
 "nbformat": 4,
 "nbformat_minor": 4
}
